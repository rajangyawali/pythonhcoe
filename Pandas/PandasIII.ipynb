{
 "cells": [
  {
   "cell_type": "markdown",
   "metadata": {},
   "source": [
    "# Creating random datasets in Pandas"
   ]
  },
  {
   "cell_type": "code",
   "execution_count": 1,
   "metadata": {
    "collapsed": true
   },
   "outputs": [],
   "source": [
    "import pandas as pd\n",
    "import matplotlib.pyplot as plt\n",
    "import numpy.random as np\n",
    "import matplotlib\n",
    "%matplotlib inline"
   ]
  },
  {
   "cell_type": "code",
   "execution_count": 2,
   "metadata": {
    "collapsed": true
   },
   "outputs": [],
   "source": [
    "np.seed(50)"
   ]
  },
  {
   "cell_type": "code",
   "execution_count": 3,
   "metadata": {
    "collapsed": true
   },
   "outputs": [],
   "source": [
    "def MyOwnDataSet(Number = 1):\n",
    "    out = []\n",
    "    for i in range(Number):\n",
    "        # The time of repetition is on every saturday. This means you have 52 rowsets\n",
    "        # when you pass the number of arguments to be 1 and so on\n",
    "        date = pd.date_range(start = '1/1/2016', end = '1/1/2017', freq = 'W-SAT')\n",
    "        data = np.randint(low = 100, high = 1000, size = len(date))\n",
    "        status = [1,2,3,4]\n",
    "        random_status = [status[np.randint(low = 0, high = len(status))] for i in range(len(date))]\n",
    "        zones = ['BAG', 'GAN', 'LUM', 'SAG', 'NAR', 'GAN', 'JAN', 'MEC', 'KOS', 'RAP', 'DHA', 'KAR', 'SET', 'MAH']\n",
    "        random_zones = [zones[np.randint(low= 0, high = len(zones))] for i in range(len(date))]\n",
    "        out.extend(zip(random_zones, random_status, data, date))\n",
    "    return out"
   ]
  },
  {
   "cell_type": "code",
   "execution_count": 4,
   "metadata": {
    "collapsed": false
   },
   "outputs": [
    {
     "name": "stdout",
     "output_type": "stream",
     "text": [
      "<class 'pandas.core.frame.DataFrame'>\n",
      "RangeIndex: 53 entries, 0 to 52\n",
      "Data columns (total 4 columns):\n",
      "Zones         53 non-null object\n",
      "Status        53 non-null int64\n",
      "Data          53 non-null int64\n",
      "Time Stamp    53 non-null datetime64[ns]\n",
      "dtypes: datetime64[ns](1), int64(2), object(1)\n",
      "memory usage: 1.7+ KB\n",
      "None\n"
     ]
    },
    {
     "data": {
      "text/html": [
       "<div>\n",
       "<table border=\"1\" class=\"dataframe\">\n",
       "  <thead>\n",
       "    <tr style=\"text-align: right;\">\n",
       "      <th></th>\n",
       "      <th>Zones</th>\n",
       "      <th>Status</th>\n",
       "      <th>Data</th>\n",
       "      <th>Time Stamp</th>\n",
       "    </tr>\n",
       "  </thead>\n",
       "  <tbody>\n",
       "    <tr>\n",
       "      <th>0</th>\n",
       "      <td>SET</td>\n",
       "      <td>3</td>\n",
       "      <td>788</td>\n",
       "      <td>2016-01-02</td>\n",
       "    </tr>\n",
       "    <tr>\n",
       "      <th>1</th>\n",
       "      <td>KAR</td>\n",
       "      <td>3</td>\n",
       "      <td>580</td>\n",
       "      <td>2016-01-09</td>\n",
       "    </tr>\n",
       "    <tr>\n",
       "      <th>2</th>\n",
       "      <td>SAG</td>\n",
       "      <td>4</td>\n",
       "      <td>209</td>\n",
       "      <td>2016-01-16</td>\n",
       "    </tr>\n",
       "    <tr>\n",
       "      <th>3</th>\n",
       "      <td>JAN</td>\n",
       "      <td>4</td>\n",
       "      <td>389</td>\n",
       "      <td>2016-01-23</td>\n",
       "    </tr>\n",
       "    <tr>\n",
       "      <th>4</th>\n",
       "      <td>KAR</td>\n",
       "      <td>1</td>\n",
       "      <td>232</td>\n",
       "      <td>2016-01-30</td>\n",
       "    </tr>\n",
       "    <tr>\n",
       "      <th>5</th>\n",
       "      <td>LUM</td>\n",
       "      <td>1</td>\n",
       "      <td>170</td>\n",
       "      <td>2016-02-06</td>\n",
       "    </tr>\n",
       "    <tr>\n",
       "      <th>6</th>\n",
       "      <td>DHA</td>\n",
       "      <td>4</td>\n",
       "      <td>329</td>\n",
       "      <td>2016-02-13</td>\n",
       "    </tr>\n",
       "    <tr>\n",
       "      <th>7</th>\n",
       "      <td>KOS</td>\n",
       "      <td>3</td>\n",
       "      <td>170</td>\n",
       "      <td>2016-02-20</td>\n",
       "    </tr>\n",
       "    <tr>\n",
       "      <th>8</th>\n",
       "      <td>SET</td>\n",
       "      <td>3</td>\n",
       "      <td>378</td>\n",
       "      <td>2016-02-27</td>\n",
       "    </tr>\n",
       "    <tr>\n",
       "      <th>9</th>\n",
       "      <td>KOS</td>\n",
       "      <td>2</td>\n",
       "      <td>849</td>\n",
       "      <td>2016-03-05</td>\n",
       "    </tr>\n",
       "    <tr>\n",
       "      <th>10</th>\n",
       "      <td>GAN</td>\n",
       "      <td>4</td>\n",
       "      <td>233</td>\n",
       "      <td>2016-03-12</td>\n",
       "    </tr>\n",
       "    <tr>\n",
       "      <th>11</th>\n",
       "      <td>DHA</td>\n",
       "      <td>1</td>\n",
       "      <td>358</td>\n",
       "      <td>2016-03-19</td>\n",
       "    </tr>\n",
       "    <tr>\n",
       "      <th>12</th>\n",
       "      <td>NAR</td>\n",
       "      <td>1</td>\n",
       "      <td>195</td>\n",
       "      <td>2016-03-26</td>\n",
       "    </tr>\n",
       "    <tr>\n",
       "      <th>13</th>\n",
       "      <td>MEC</td>\n",
       "      <td>1</td>\n",
       "      <td>350</td>\n",
       "      <td>2016-04-02</td>\n",
       "    </tr>\n",
       "    <tr>\n",
       "      <th>14</th>\n",
       "      <td>MAH</td>\n",
       "      <td>3</td>\n",
       "      <td>171</td>\n",
       "      <td>2016-04-09</td>\n",
       "    </tr>\n",
       "    <tr>\n",
       "      <th>15</th>\n",
       "      <td>KOS</td>\n",
       "      <td>4</td>\n",
       "      <td>467</td>\n",
       "      <td>2016-04-16</td>\n",
       "    </tr>\n",
       "    <tr>\n",
       "      <th>16</th>\n",
       "      <td>NAR</td>\n",
       "      <td>1</td>\n",
       "      <td>552</td>\n",
       "      <td>2016-04-23</td>\n",
       "    </tr>\n",
       "    <tr>\n",
       "      <th>17</th>\n",
       "      <td>NAR</td>\n",
       "      <td>2</td>\n",
       "      <td>263</td>\n",
       "      <td>2016-04-30</td>\n",
       "    </tr>\n",
       "    <tr>\n",
       "      <th>18</th>\n",
       "      <td>LUM</td>\n",
       "      <td>4</td>\n",
       "      <td>960</td>\n",
       "      <td>2016-05-07</td>\n",
       "    </tr>\n",
       "    <tr>\n",
       "      <th>19</th>\n",
       "      <td>DHA</td>\n",
       "      <td>3</td>\n",
       "      <td>703</td>\n",
       "      <td>2016-05-14</td>\n",
       "    </tr>\n",
       "    <tr>\n",
       "      <th>20</th>\n",
       "      <td>GAN</td>\n",
       "      <td>2</td>\n",
       "      <td>254</td>\n",
       "      <td>2016-05-21</td>\n",
       "    </tr>\n",
       "    <tr>\n",
       "      <th>21</th>\n",
       "      <td>DHA</td>\n",
       "      <td>4</td>\n",
       "      <td>318</td>\n",
       "      <td>2016-05-28</td>\n",
       "    </tr>\n",
       "    <tr>\n",
       "      <th>22</th>\n",
       "      <td>KOS</td>\n",
       "      <td>2</td>\n",
       "      <td>234</td>\n",
       "      <td>2016-06-04</td>\n",
       "    </tr>\n",
       "    <tr>\n",
       "      <th>23</th>\n",
       "      <td>KAR</td>\n",
       "      <td>2</td>\n",
       "      <td>504</td>\n",
       "      <td>2016-06-11</td>\n",
       "    </tr>\n",
       "    <tr>\n",
       "      <th>24</th>\n",
       "      <td>KAR</td>\n",
       "      <td>2</td>\n",
       "      <td>911</td>\n",
       "      <td>2016-06-18</td>\n",
       "    </tr>\n",
       "    <tr>\n",
       "      <th>25</th>\n",
       "      <td>KAR</td>\n",
       "      <td>2</td>\n",
       "      <td>899</td>\n",
       "      <td>2016-06-25</td>\n",
       "    </tr>\n",
       "    <tr>\n",
       "      <th>26</th>\n",
       "      <td>KAR</td>\n",
       "      <td>1</td>\n",
       "      <td>661</td>\n",
       "      <td>2016-07-02</td>\n",
       "    </tr>\n",
       "    <tr>\n",
       "      <th>27</th>\n",
       "      <td>MEC</td>\n",
       "      <td>4</td>\n",
       "      <td>441</td>\n",
       "      <td>2016-07-09</td>\n",
       "    </tr>\n",
       "    <tr>\n",
       "      <th>28</th>\n",
       "      <td>RAP</td>\n",
       "      <td>2</td>\n",
       "      <td>206</td>\n",
       "      <td>2016-07-16</td>\n",
       "    </tr>\n",
       "    <tr>\n",
       "      <th>29</th>\n",
       "      <td>GAN</td>\n",
       "      <td>4</td>\n",
       "      <td>420</td>\n",
       "      <td>2016-07-23</td>\n",
       "    </tr>\n",
       "    <tr>\n",
       "      <th>30</th>\n",
       "      <td>GAN</td>\n",
       "      <td>1</td>\n",
       "      <td>607</td>\n",
       "      <td>2016-07-30</td>\n",
       "    </tr>\n",
       "    <tr>\n",
       "      <th>31</th>\n",
       "      <td>KOS</td>\n",
       "      <td>4</td>\n",
       "      <td>618</td>\n",
       "      <td>2016-08-06</td>\n",
       "    </tr>\n",
       "    <tr>\n",
       "      <th>32</th>\n",
       "      <td>SAG</td>\n",
       "      <td>4</td>\n",
       "      <td>247</td>\n",
       "      <td>2016-08-13</td>\n",
       "    </tr>\n",
       "    <tr>\n",
       "      <th>33</th>\n",
       "      <td>SAG</td>\n",
       "      <td>2</td>\n",
       "      <td>742</td>\n",
       "      <td>2016-08-20</td>\n",
       "    </tr>\n",
       "    <tr>\n",
       "      <th>34</th>\n",
       "      <td>GAN</td>\n",
       "      <td>2</td>\n",
       "      <td>179</td>\n",
       "      <td>2016-08-27</td>\n",
       "    </tr>\n",
       "    <tr>\n",
       "      <th>35</th>\n",
       "      <td>DHA</td>\n",
       "      <td>1</td>\n",
       "      <td>514</td>\n",
       "      <td>2016-09-03</td>\n",
       "    </tr>\n",
       "    <tr>\n",
       "      <th>36</th>\n",
       "      <td>SAG</td>\n",
       "      <td>3</td>\n",
       "      <td>205</td>\n",
       "      <td>2016-09-10</td>\n",
       "    </tr>\n",
       "    <tr>\n",
       "      <th>37</th>\n",
       "      <td>JAN</td>\n",
       "      <td>2</td>\n",
       "      <td>519</td>\n",
       "      <td>2016-09-17</td>\n",
       "    </tr>\n",
       "    <tr>\n",
       "      <th>38</th>\n",
       "      <td>KOS</td>\n",
       "      <td>1</td>\n",
       "      <td>599</td>\n",
       "      <td>2016-09-24</td>\n",
       "    </tr>\n",
       "    <tr>\n",
       "      <th>39</th>\n",
       "      <td>JAN</td>\n",
       "      <td>1</td>\n",
       "      <td>126</td>\n",
       "      <td>2016-10-01</td>\n",
       "    </tr>\n",
       "    <tr>\n",
       "      <th>40</th>\n",
       "      <td>BAG</td>\n",
       "      <td>1</td>\n",
       "      <td>672</td>\n",
       "      <td>2016-10-08</td>\n",
       "    </tr>\n",
       "    <tr>\n",
       "      <th>41</th>\n",
       "      <td>KOS</td>\n",
       "      <td>1</td>\n",
       "      <td>471</td>\n",
       "      <td>2016-10-15</td>\n",
       "    </tr>\n",
       "    <tr>\n",
       "      <th>42</th>\n",
       "      <td>LUM</td>\n",
       "      <td>2</td>\n",
       "      <td>934</td>\n",
       "      <td>2016-10-22</td>\n",
       "    </tr>\n",
       "    <tr>\n",
       "      <th>43</th>\n",
       "      <td>DHA</td>\n",
       "      <td>3</td>\n",
       "      <td>935</td>\n",
       "      <td>2016-10-29</td>\n",
       "    </tr>\n",
       "    <tr>\n",
       "      <th>44</th>\n",
       "      <td>KAR</td>\n",
       "      <td>1</td>\n",
       "      <td>230</td>\n",
       "      <td>2016-11-05</td>\n",
       "    </tr>\n",
       "    <tr>\n",
       "      <th>45</th>\n",
       "      <td>GAN</td>\n",
       "      <td>3</td>\n",
       "      <td>878</td>\n",
       "      <td>2016-11-12</td>\n",
       "    </tr>\n",
       "    <tr>\n",
       "      <th>46</th>\n",
       "      <td>GAN</td>\n",
       "      <td>4</td>\n",
       "      <td>722</td>\n",
       "      <td>2016-11-19</td>\n",
       "    </tr>\n",
       "    <tr>\n",
       "      <th>47</th>\n",
       "      <td>MAH</td>\n",
       "      <td>4</td>\n",
       "      <td>100</td>\n",
       "      <td>2016-11-26</td>\n",
       "    </tr>\n",
       "    <tr>\n",
       "      <th>48</th>\n",
       "      <td>DHA</td>\n",
       "      <td>1</td>\n",
       "      <td>193</td>\n",
       "      <td>2016-12-03</td>\n",
       "    </tr>\n",
       "    <tr>\n",
       "      <th>49</th>\n",
       "      <td>JAN</td>\n",
       "      <td>2</td>\n",
       "      <td>321</td>\n",
       "      <td>2016-12-10</td>\n",
       "    </tr>\n",
       "    <tr>\n",
       "      <th>50</th>\n",
       "      <td>GAN</td>\n",
       "      <td>1</td>\n",
       "      <td>706</td>\n",
       "      <td>2016-12-17</td>\n",
       "    </tr>\n",
       "    <tr>\n",
       "      <th>51</th>\n",
       "      <td>GAN</td>\n",
       "      <td>3</td>\n",
       "      <td>100</td>\n",
       "      <td>2016-12-24</td>\n",
       "    </tr>\n",
       "    <tr>\n",
       "      <th>52</th>\n",
       "      <td>JAN</td>\n",
       "      <td>3</td>\n",
       "      <td>239</td>\n",
       "      <td>2016-12-31</td>\n",
       "    </tr>\n",
       "  </tbody>\n",
       "</table>\n",
       "</div>"
      ],
      "text/plain": [
       "   Zones  Status  Data Time Stamp\n",
       "0    SET       3   788 2016-01-02\n",
       "1    KAR       3   580 2016-01-09\n",
       "2    SAG       4   209 2016-01-16\n",
       "3    JAN       4   389 2016-01-23\n",
       "4    KAR       1   232 2016-01-30\n",
       "5    LUM       1   170 2016-02-06\n",
       "6    DHA       4   329 2016-02-13\n",
       "7    KOS       3   170 2016-02-20\n",
       "8    SET       3   378 2016-02-27\n",
       "9    KOS       2   849 2016-03-05\n",
       "10   GAN       4   233 2016-03-12\n",
       "11   DHA       1   358 2016-03-19\n",
       "12   NAR       1   195 2016-03-26\n",
       "13   MEC       1   350 2016-04-02\n",
       "14   MAH       3   171 2016-04-09\n",
       "15   KOS       4   467 2016-04-16\n",
       "16   NAR       1   552 2016-04-23\n",
       "17   NAR       2   263 2016-04-30\n",
       "18   LUM       4   960 2016-05-07\n",
       "19   DHA       3   703 2016-05-14\n",
       "20   GAN       2   254 2016-05-21\n",
       "21   DHA       4   318 2016-05-28\n",
       "22   KOS       2   234 2016-06-04\n",
       "23   KAR       2   504 2016-06-11\n",
       "24   KAR       2   911 2016-06-18\n",
       "25   KAR       2   899 2016-06-25\n",
       "26   KAR       1   661 2016-07-02\n",
       "27   MEC       4   441 2016-07-09\n",
       "28   RAP       2   206 2016-07-16\n",
       "29   GAN       4   420 2016-07-23\n",
       "30   GAN       1   607 2016-07-30\n",
       "31   KOS       4   618 2016-08-06\n",
       "32   SAG       4   247 2016-08-13\n",
       "33   SAG       2   742 2016-08-20\n",
       "34   GAN       2   179 2016-08-27\n",
       "35   DHA       1   514 2016-09-03\n",
       "36   SAG       3   205 2016-09-10\n",
       "37   JAN       2   519 2016-09-17\n",
       "38   KOS       1   599 2016-09-24\n",
       "39   JAN       1   126 2016-10-01\n",
       "40   BAG       1   672 2016-10-08\n",
       "41   KOS       1   471 2016-10-15\n",
       "42   LUM       2   934 2016-10-22\n",
       "43   DHA       3   935 2016-10-29\n",
       "44   KAR       1   230 2016-11-05\n",
       "45   GAN       3   878 2016-11-12\n",
       "46   GAN       4   722 2016-11-19\n",
       "47   MAH       4   100 2016-11-26\n",
       "48   DHA       1   193 2016-12-03\n",
       "49   JAN       2   321 2016-12-10\n",
       "50   GAN       1   706 2016-12-17\n",
       "51   GAN       3   100 2016-12-24\n",
       "52   JAN       3   239 2016-12-31"
      ]
     },
     "execution_count": 4,
     "metadata": {},
     "output_type": "execute_result"
    }
   ],
   "source": [
    "dataset = MyOwnDataSet()\n",
    "df = pd.DataFrame(data= dataset, columns = ['Zones', 'Status', 'Data', 'Time Stamp'])\n",
    "print(df.info())\n",
    "df"
   ]
  },
  {
   "cell_type": "code",
   "execution_count": 5,
   "metadata": {
    "collapsed": false
   },
   "outputs": [
    {
     "data": {
      "text/html": [
       "<div>\n",
       "<table border=\"1\" class=\"dataframe\">\n",
       "  <thead>\n",
       "    <tr style=\"text-align: right;\">\n",
       "      <th></th>\n",
       "      <th>Zones</th>\n",
       "      <th>Status</th>\n",
       "      <th>Data</th>\n",
       "      <th>Time Stamp</th>\n",
       "    </tr>\n",
       "  </thead>\n",
       "  <tbody>\n",
       "    <tr>\n",
       "      <th>0</th>\n",
       "      <td>SET</td>\n",
       "      <td>3</td>\n",
       "      <td>788</td>\n",
       "      <td>2016-01-02</td>\n",
       "    </tr>\n",
       "    <tr>\n",
       "      <th>1</th>\n",
       "      <td>KAR</td>\n",
       "      <td>3</td>\n",
       "      <td>580</td>\n",
       "      <td>2016-01-09</td>\n",
       "    </tr>\n",
       "    <tr>\n",
       "      <th>2</th>\n",
       "      <td>SAG</td>\n",
       "      <td>4</td>\n",
       "      <td>209</td>\n",
       "      <td>2016-01-16</td>\n",
       "    </tr>\n",
       "    <tr>\n",
       "      <th>3</th>\n",
       "      <td>JAN</td>\n",
       "      <td>4</td>\n",
       "      <td>389</td>\n",
       "      <td>2016-01-23</td>\n",
       "    </tr>\n",
       "    <tr>\n",
       "      <th>4</th>\n",
       "      <td>KAR</td>\n",
       "      <td>1</td>\n",
       "      <td>232</td>\n",
       "      <td>2016-01-30</td>\n",
       "    </tr>\n",
       "  </tbody>\n",
       "</table>\n",
       "</div>"
      ],
      "text/plain": [
       "  Zones  Status  Data Time Stamp\n",
       "0   SET       3   788 2016-01-02\n",
       "1   KAR       3   580 2016-01-09\n",
       "2   SAG       4   209 2016-01-16\n",
       "3   JAN       4   389 2016-01-23\n",
       "4   KAR       1   232 2016-01-30"
      ]
     },
     "execution_count": 5,
     "metadata": {},
     "output_type": "execute_result"
    }
   ],
   "source": [
    "df.head()"
   ]
  },
  {
   "cell_type": "code",
   "execution_count": 6,
   "metadata": {
    "collapsed": false
   },
   "outputs": [
    {
     "data": {
      "text/html": [
       "<div>\n",
       "<table border=\"1\" class=\"dataframe\">\n",
       "  <thead>\n",
       "    <tr style=\"text-align: right;\">\n",
       "      <th></th>\n",
       "      <th>Zones</th>\n",
       "      <th>Status</th>\n",
       "      <th>Data</th>\n",
       "      <th>Time Stamp</th>\n",
       "    </tr>\n",
       "  </thead>\n",
       "  <tbody>\n",
       "    <tr>\n",
       "      <th>48</th>\n",
       "      <td>DHA</td>\n",
       "      <td>1</td>\n",
       "      <td>193</td>\n",
       "      <td>2016-12-03</td>\n",
       "    </tr>\n",
       "    <tr>\n",
       "      <th>49</th>\n",
       "      <td>JAN</td>\n",
       "      <td>2</td>\n",
       "      <td>321</td>\n",
       "      <td>2016-12-10</td>\n",
       "    </tr>\n",
       "    <tr>\n",
       "      <th>50</th>\n",
       "      <td>GAN</td>\n",
       "      <td>1</td>\n",
       "      <td>706</td>\n",
       "      <td>2016-12-17</td>\n",
       "    </tr>\n",
       "    <tr>\n",
       "      <th>51</th>\n",
       "      <td>GAN</td>\n",
       "      <td>3</td>\n",
       "      <td>100</td>\n",
       "      <td>2016-12-24</td>\n",
       "    </tr>\n",
       "    <tr>\n",
       "      <th>52</th>\n",
       "      <td>JAN</td>\n",
       "      <td>3</td>\n",
       "      <td>239</td>\n",
       "      <td>2016-12-31</td>\n",
       "    </tr>\n",
       "  </tbody>\n",
       "</table>\n",
       "</div>"
      ],
      "text/plain": [
       "   Zones  Status  Data Time Stamp\n",
       "48   DHA       1   193 2016-12-03\n",
       "49   JAN       2   321 2016-12-10\n",
       "50   GAN       1   706 2016-12-17\n",
       "51   GAN       3   100 2016-12-24\n",
       "52   JAN       3   239 2016-12-31"
      ]
     },
     "execution_count": 6,
     "metadata": {},
     "output_type": "execute_result"
    }
   ],
   "source": [
    "df.tail()"
   ]
  },
  {
   "cell_type": "markdown",
   "metadata": {},
   "source": [
    "\n",
    "# Reading data from excel "
   ]
  },
  {
   "cell_type": "code",
   "execution_count": 7,
   "metadata": {
    "collapsed": false
   },
   "outputs": [],
   "source": [
    "location = 'marks.xlsx'"
   ]
  },
  {
   "cell_type": "code",
   "execution_count": 8,
   "metadata": {
    "collapsed": false
   },
   "outputs": [
    {
     "data": {
      "text/html": [
       "<div>\n",
       "<table border=\"1\" class=\"dataframe\">\n",
       "  <thead>\n",
       "    <tr style=\"text-align: right;\">\n",
       "      <th></th>\n",
       "      <th>Name</th>\n",
       "      <th>Maths</th>\n",
       "      <th>Science</th>\n",
       "      <th>Social</th>\n",
       "      <th>English</th>\n",
       "      <th>Nepali</th>\n",
       "    </tr>\n",
       "  </thead>\n",
       "  <tbody>\n",
       "    <tr>\n",
       "      <th>0</th>\n",
       "      <td>Raju</td>\n",
       "      <td>20</td>\n",
       "      <td>58</td>\n",
       "      <td>89</td>\n",
       "      <td>89</td>\n",
       "      <td>58</td>\n",
       "    </tr>\n",
       "    <tr>\n",
       "      <th>1</th>\n",
       "      <td>Hari</td>\n",
       "      <td>30</td>\n",
       "      <td>65</td>\n",
       "      <td>48</td>\n",
       "      <td>64</td>\n",
       "      <td>78</td>\n",
       "    </tr>\n",
       "    <tr>\n",
       "      <th>2</th>\n",
       "      <td>Shyam</td>\n",
       "      <td>45</td>\n",
       "      <td>48</td>\n",
       "      <td>78</td>\n",
       "      <td>54</td>\n",
       "      <td>49</td>\n",
       "    </tr>\n",
       "    <tr>\n",
       "      <th>3</th>\n",
       "      <td>Rayan</td>\n",
       "      <td>65</td>\n",
       "      <td>98</td>\n",
       "      <td>95</td>\n",
       "      <td>86</td>\n",
       "      <td>98</td>\n",
       "    </tr>\n",
       "    <tr>\n",
       "      <th>4</th>\n",
       "      <td>Nayan</td>\n",
       "      <td>85</td>\n",
       "      <td>56</td>\n",
       "      <td>89</td>\n",
       "      <td>28</td>\n",
       "      <td>78</td>\n",
       "    </tr>\n",
       "    <tr>\n",
       "      <th>5</th>\n",
       "      <td>Gokul</td>\n",
       "      <td>45</td>\n",
       "      <td>78</td>\n",
       "      <td>65</td>\n",
       "      <td>57</td>\n",
       "      <td>58</td>\n",
       "    </tr>\n",
       "    <tr>\n",
       "      <th>6</th>\n",
       "      <td>Shiva</td>\n",
       "      <td>75</td>\n",
       "      <td>45</td>\n",
       "      <td>48</td>\n",
       "      <td>65</td>\n",
       "      <td>67</td>\n",
       "    </tr>\n",
       "    <tr>\n",
       "      <th>7</th>\n",
       "      <td>Kaale</td>\n",
       "      <td>65</td>\n",
       "      <td>64</td>\n",
       "      <td>46</td>\n",
       "      <td>65</td>\n",
       "      <td>25</td>\n",
       "    </tr>\n",
       "    <tr>\n",
       "      <th>8</th>\n",
       "      <td>Harry</td>\n",
       "      <td>89</td>\n",
       "      <td>56</td>\n",
       "      <td>65</td>\n",
       "      <td>58</td>\n",
       "      <td>38</td>\n",
       "    </tr>\n",
       "  </tbody>\n",
       "</table>\n",
       "</div>"
      ],
      "text/plain": [
       "    Name  Maths  Science  Social  English  Nepali\n",
       "0   Raju     20       58      89       89      58\n",
       "1   Hari     30       65      48       64      78\n",
       "2  Shyam     45       48      78       54      49\n",
       "3  Rayan     65       98      95       86      98\n",
       "4  Nayan     85       56      89       28      78\n",
       "5  Gokul     45       78      65       57      58\n",
       "6  Shiva     75       45      48       65      67\n",
       "7  Kaale     65       64      46       65      25\n",
       "8  Harry     89       56      65       58      38"
      ]
     },
     "execution_count": 8,
     "metadata": {},
     "output_type": "execute_result"
    }
   ],
   "source": [
    "df1 = pd.read_excel(location, 0, index = None)\n",
    "df1"
   ]
  },
  {
   "cell_type": "code",
   "execution_count": 9,
   "metadata": {
    "collapsed": false
   },
   "outputs": [
    {
     "data": {
      "text/html": [
       "<div>\n",
       "<table border=\"1\" class=\"dataframe\">\n",
       "  <thead>\n",
       "    <tr style=\"text-align: right;\">\n",
       "      <th></th>\n",
       "      <th>Maths</th>\n",
       "      <th>Science</th>\n",
       "      <th>Social</th>\n",
       "      <th>English</th>\n",
       "      <th>Nepali</th>\n",
       "    </tr>\n",
       "    <tr>\n",
       "      <th>Name</th>\n",
       "      <th></th>\n",
       "      <th></th>\n",
       "      <th></th>\n",
       "      <th></th>\n",
       "      <th></th>\n",
       "    </tr>\n",
       "  </thead>\n",
       "  <tbody>\n",
       "    <tr>\n",
       "      <th>Raju</th>\n",
       "      <td>20</td>\n",
       "      <td>58</td>\n",
       "      <td>89</td>\n",
       "      <td>89</td>\n",
       "      <td>58</td>\n",
       "    </tr>\n",
       "    <tr>\n",
       "      <th>Hari</th>\n",
       "      <td>30</td>\n",
       "      <td>65</td>\n",
       "      <td>48</td>\n",
       "      <td>64</td>\n",
       "      <td>78</td>\n",
       "    </tr>\n",
       "    <tr>\n",
       "      <th>Shyam</th>\n",
       "      <td>45</td>\n",
       "      <td>48</td>\n",
       "      <td>78</td>\n",
       "      <td>54</td>\n",
       "      <td>49</td>\n",
       "    </tr>\n",
       "    <tr>\n",
       "      <th>Rayan</th>\n",
       "      <td>65</td>\n",
       "      <td>98</td>\n",
       "      <td>95</td>\n",
       "      <td>86</td>\n",
       "      <td>98</td>\n",
       "    </tr>\n",
       "    <tr>\n",
       "      <th>Nayan</th>\n",
       "      <td>85</td>\n",
       "      <td>56</td>\n",
       "      <td>89</td>\n",
       "      <td>28</td>\n",
       "      <td>78</td>\n",
       "    </tr>\n",
       "    <tr>\n",
       "      <th>Gokul</th>\n",
       "      <td>45</td>\n",
       "      <td>78</td>\n",
       "      <td>65</td>\n",
       "      <td>57</td>\n",
       "      <td>58</td>\n",
       "    </tr>\n",
       "    <tr>\n",
       "      <th>Shiva</th>\n",
       "      <td>75</td>\n",
       "      <td>45</td>\n",
       "      <td>48</td>\n",
       "      <td>65</td>\n",
       "      <td>67</td>\n",
       "    </tr>\n",
       "    <tr>\n",
       "      <th>Kaale</th>\n",
       "      <td>65</td>\n",
       "      <td>64</td>\n",
       "      <td>46</td>\n",
       "      <td>65</td>\n",
       "      <td>25</td>\n",
       "    </tr>\n",
       "    <tr>\n",
       "      <th>Harry</th>\n",
       "      <td>89</td>\n",
       "      <td>56</td>\n",
       "      <td>65</td>\n",
       "      <td>58</td>\n",
       "      <td>38</td>\n",
       "    </tr>\n",
       "  </tbody>\n",
       "</table>\n",
       "</div>"
      ],
      "text/plain": [
       "       Maths  Science  Social  English  Nepali\n",
       "Name                                          \n",
       "Raju      20       58      89       89      58\n",
       "Hari      30       65      48       64      78\n",
       "Shyam     45       48      78       54      49\n",
       "Rayan     65       98      95       86      98\n",
       "Nayan     85       56      89       28      78\n",
       "Gokul     45       78      65       57      58\n",
       "Shiva     75       45      48       65      67\n",
       "Kaale     65       64      46       65      25\n",
       "Harry     89       56      65       58      38"
      ]
     },
     "execution_count": 9,
     "metadata": {},
     "output_type": "execute_result"
    }
   ],
   "source": [
    "df1 = pd.read_excel(location, 0, index_col = 'Name')\n",
    "df1"
   ]
  },
  {
   "cell_type": "code",
   "execution_count": 10,
   "metadata": {
    "collapsed": false
   },
   "outputs": [
    {
     "data": {
      "text/plain": [
       "57.666666666666664"
      ]
     },
     "execution_count": 10,
     "metadata": {},
     "output_type": "execute_result"
    }
   ],
   "source": [
    "df1['Maths'].mean()"
   ]
  },
  {
   "cell_type": "code",
   "execution_count": 11,
   "metadata": {
    "collapsed": false
   },
   "outputs": [
    {
     "data": {
      "text/plain": [
       "<bound method _make_stat_function.<locals>.stat_func of Name\n",
       "Raju     58\n",
       "Hari     65\n",
       "Shyam    48\n",
       "Rayan    98\n",
       "Nayan    56\n",
       "Gokul    78\n",
       "Shiva    45\n",
       "Kaale    64\n",
       "Harry    56\n",
       "Name: Science, dtype: int64>"
      ]
     },
     "execution_count": 11,
     "metadata": {},
     "output_type": "execute_result"
    }
   ],
   "source": [
    "df1['Science'].sum"
   ]
  },
  {
   "cell_type": "code",
   "execution_count": 12,
   "metadata": {
    "collapsed": false
   },
   "outputs": [
    {
     "data": {
      "text/plain": [
       "568"
      ]
     },
     "execution_count": 12,
     "metadata": {},
     "output_type": "execute_result"
    }
   ],
   "source": [
    "df1['Science'].sum()"
   ]
  },
  {
   "cell_type": "code",
   "execution_count": 13,
   "metadata": {
    "collapsed": false
   },
   "outputs": [
    {
     "data": {
      "text/plain": [
       "Maths      int64\n",
       "Science    int64\n",
       "Social     int64\n",
       "English    int64\n",
       "Nepali     int64\n",
       "dtype: object"
      ]
     },
     "execution_count": 13,
     "metadata": {},
     "output_type": "execute_result"
    }
   ],
   "source": [
    "df1.dtypes"
   ]
  },
  {
   "cell_type": "code",
   "execution_count": 14,
   "metadata": {
    "collapsed": false
   },
   "outputs": [
    {
     "data": {
      "text/plain": [
       "Index(['Raju', 'Hari', 'Shyam', 'Rayan', 'Nayan', 'Gokul', 'Shiva', 'Kaale',\n",
       "       'Harry'],\n",
       "      dtype='object', name='Name')"
      ]
     },
     "execution_count": 14,
     "metadata": {},
     "output_type": "execute_result"
    }
   ],
   "source": [
    "df1.index"
   ]
  },
  {
   "cell_type": "code",
   "execution_count": 15,
   "metadata": {
    "collapsed": false
   },
   "outputs": [
    {
     "data": {
      "text/html": [
       "<div>\n",
       "<table border=\"1\" class=\"dataframe\">\n",
       "  <thead>\n",
       "    <tr style=\"text-align: right;\">\n",
       "      <th></th>\n",
       "      <th>Zones</th>\n",
       "      <th>Status</th>\n",
       "      <th>Data</th>\n",
       "      <th>Time Stamp</th>\n",
       "    </tr>\n",
       "  </thead>\n",
       "  <tbody>\n",
       "    <tr>\n",
       "      <th>0</th>\n",
       "      <td>SET</td>\n",
       "      <td>3</td>\n",
       "      <td>788</td>\n",
       "      <td>2016-01-02</td>\n",
       "    </tr>\n",
       "    <tr>\n",
       "      <th>1</th>\n",
       "      <td>KAR</td>\n",
       "      <td>3</td>\n",
       "      <td>580</td>\n",
       "      <td>2016-01-09</td>\n",
       "    </tr>\n",
       "    <tr>\n",
       "      <th>2</th>\n",
       "      <td>SAG</td>\n",
       "      <td>4</td>\n",
       "      <td>209</td>\n",
       "      <td>2016-01-16</td>\n",
       "    </tr>\n",
       "    <tr>\n",
       "      <th>3</th>\n",
       "      <td>JAN</td>\n",
       "      <td>4</td>\n",
       "      <td>389</td>\n",
       "      <td>2016-01-23</td>\n",
       "    </tr>\n",
       "    <tr>\n",
       "      <th>4</th>\n",
       "      <td>KAR</td>\n",
       "      <td>1</td>\n",
       "      <td>232</td>\n",
       "      <td>2016-01-30</td>\n",
       "    </tr>\n",
       "  </tbody>\n",
       "</table>\n",
       "</div>"
      ],
      "text/plain": [
       "  Zones  Status  Data Time Stamp\n",
       "0   SET       3   788 2016-01-02\n",
       "1   KAR       3   580 2016-01-09\n",
       "2   SAG       4   209 2016-01-16\n",
       "3   JAN       4   389 2016-01-23\n",
       "4   KAR       1   232 2016-01-30"
      ]
     },
     "execution_count": 15,
     "metadata": {},
     "output_type": "execute_result"
    }
   ],
   "source": [
    "df1.head()"
   ]
  },
  {
   "cell_type": "markdown",
   "metadata": {},
   "source": [
    "\n",
    "# Preparing Data "
   ]
  },
  {
   "cell_type": "code",
   "execution_count": 16,
   "metadata": {
    "collapsed": true
   },
   "outputs": [],
   "source": [
    "## This section attempts to clean up the data for the analysis\n"
   ]
  },
  {
   "cell_type": "code",
   "execution_count": 17,
   "metadata": {
    "collapsed": false
   },
   "outputs": [
    {
     "data": {
      "text/plain": [
       "array(['SET', 'KAR', 'SAG', 'JAN', 'LUM', 'DHA', 'KOS', 'GAN', 'NAR',\n",
       "       'MEC', 'MAH', 'RAP', 'BAG'], dtype=object)"
      ]
     },
     "execution_count": 17,
     "metadata": {},
     "output_type": "execute_result"
    }
   ],
   "source": [
    "df['Zones'].unique()"
   ]
  },
  {
   "cell_type": "code",
   "execution_count": 19,
   "metadata": {
    "collapsed": false
   },
   "outputs": [
    {
     "data": {
      "image/png": "[encoded data removed]",
      "text/plain": [
       "<matplotlib.figure.Figure at 0x7ff8edddd2b0>"
      ]
     },
     "metadata": {},
     "output_type": "display_data"
    }
   ],
   "source": [
    "df1['Science'].plot(figsize = (25,15));"
   ]
  },
  {
   "cell_type": "markdown",
   "metadata": {},
   "source": [
    "#  Group by Zones and Time Stamp"
   ]
  },
  {
   "cell_type": "code",
   "execution_count": 21,
   "metadata": {
    "collapsed": false
   },
   "outputs": [
    {
     "data": {
      "text/html": [
       "<div>\n",
       "<table border=\"1\" class=\"dataframe\">\n",
       "  <thead>\n",
       "    <tr style=\"text-align: right;\">\n",
       "      <th></th>\n",
       "      <th></th>\n",
       "      <th>index</th>\n",
       "      <th>Status</th>\n",
       "      <th>Data</th>\n",
       "    </tr>\n",
       "    <tr>\n",
       "      <th>Zones</th>\n",
       "      <th>Time Stamp</th>\n",
       "      <th></th>\n",
       "      <th></th>\n",
       "      <th></th>\n",
       "    </tr>\n",
       "  </thead>\n",
       "  <tbody>\n",
       "    <tr>\n",
       "      <th>BAG</th>\n",
       "      <th>2016-10-08</th>\n",
       "      <td>40</td>\n",
       "      <td>1</td>\n",
       "      <td>672</td>\n",
       "    </tr>\n",
       "    <tr>\n",
       "      <th rowspan=\"7\" valign=\"top\">DHA</th>\n",
       "      <th>2016-02-13</th>\n",
       "      <td>6</td>\n",
       "      <td>4</td>\n",
       "      <td>329</td>\n",
       "    </tr>\n",
       "    <tr>\n",
       "      <th>2016-03-19</th>\n",
       "      <td>11</td>\n",
       "      <td>1</td>\n",
       "      <td>358</td>\n",
       "    </tr>\n",
       "    <tr>\n",
       "      <th>2016-05-14</th>\n",
       "      <td>19</td>\n",
       "      <td>3</td>\n",
       "      <td>703</td>\n",
       "    </tr>\n",
       "    <tr>\n",
       "      <th>2016-05-28</th>\n",
       "      <td>21</td>\n",
       "      <td>4</td>\n",
       "      <td>318</td>\n",
       "    </tr>\n",
       "    <tr>\n",
       "      <th>2016-09-03</th>\n",
       "      <td>35</td>\n",
       "      <td>1</td>\n",
       "      <td>514</td>\n",
       "    </tr>\n",
       "    <tr>\n",
       "      <th>2016-10-29</th>\n",
       "      <td>43</td>\n",
       "      <td>3</td>\n",
       "      <td>935</td>\n",
       "    </tr>\n",
       "    <tr>\n",
       "      <th>2016-12-03</th>\n",
       "      <td>48</td>\n",
       "      <td>1</td>\n",
       "      <td>193</td>\n",
       "    </tr>\n",
       "    <tr>\n",
       "      <th rowspan=\"9\" valign=\"top\">GAN</th>\n",
       "      <th>2016-03-12</th>\n",
       "      <td>10</td>\n",
       "      <td>4</td>\n",
       "      <td>233</td>\n",
       "    </tr>\n",
       "    <tr>\n",
       "      <th>2016-05-21</th>\n",
       "      <td>20</td>\n",
       "      <td>2</td>\n",
       "      <td>254</td>\n",
       "    </tr>\n",
       "    <tr>\n",
       "      <th>2016-07-23</th>\n",
       "      <td>29</td>\n",
       "      <td>4</td>\n",
       "      <td>420</td>\n",
       "    </tr>\n",
       "    <tr>\n",
       "      <th>2016-07-30</th>\n",
       "      <td>30</td>\n",
       "      <td>1</td>\n",
       "      <td>607</td>\n",
       "    </tr>\n",
       "    <tr>\n",
       "      <th>2016-08-27</th>\n",
       "      <td>34</td>\n",
       "      <td>2</td>\n",
       "      <td>179</td>\n",
       "    </tr>\n",
       "    <tr>\n",
       "      <th>2016-11-12</th>\n",
       "      <td>45</td>\n",
       "      <td>3</td>\n",
       "      <td>878</td>\n",
       "    </tr>\n",
       "    <tr>\n",
       "      <th>2016-11-19</th>\n",
       "      <td>46</td>\n",
       "      <td>4</td>\n",
       "      <td>722</td>\n",
       "    </tr>\n",
       "    <tr>\n",
       "      <th>2016-12-17</th>\n",
       "      <td>50</td>\n",
       "      <td>1</td>\n",
       "      <td>706</td>\n",
       "    </tr>\n",
       "    <tr>\n",
       "      <th>2016-12-24</th>\n",
       "      <td>51</td>\n",
       "      <td>3</td>\n",
       "      <td>100</td>\n",
       "    </tr>\n",
       "    <tr>\n",
       "      <th rowspan=\"3\" valign=\"top\">JAN</th>\n",
       "      <th>2016-01-23</th>\n",
       "      <td>3</td>\n",
       "      <td>4</td>\n",
       "      <td>389</td>\n",
       "    </tr>\n",
       "    <tr>\n",
       "      <th>2016-09-17</th>\n",
       "      <td>37</td>\n",
       "      <td>2</td>\n",
       "      <td>519</td>\n",
       "    </tr>\n",
       "    <tr>\n",
       "      <th>2016-10-01</th>\n",
       "      <td>39</td>\n",
       "      <td>1</td>\n",
       "      <td>126</td>\n",
       "    </tr>\n",
       "  </tbody>\n",
       "</table>\n",
       "</div>"
      ],
      "text/plain": [
       "                  index  Status  Data\n",
       "Zones Time Stamp                     \n",
       "BAG   2016-10-08     40       1   672\n",
       "DHA   2016-02-13      6       4   329\n",
       "      2016-03-19     11       1   358\n",
       "      2016-05-14     19       3   703\n",
       "      2016-05-28     21       4   318\n",
       "      2016-09-03     35       1   514\n",
       "      2016-10-29     43       3   935\n",
       "      2016-12-03     48       1   193\n",
       "GAN   2016-03-12     10       4   233\n",
       "      2016-05-21     20       2   254\n",
       "      2016-07-23     29       4   420\n",
       "      2016-07-30     30       1   607\n",
       "      2016-08-27     34       2   179\n",
       "      2016-11-12     45       3   878\n",
       "      2016-11-19     46       4   722\n",
       "      2016-12-17     50       1   706\n",
       "      2016-12-24     51       3   100\n",
       "JAN   2016-01-23      3       4   389\n",
       "      2016-09-17     37       2   519\n",
       "      2016-10-01     39       1   126"
      ]
     },
     "execution_count": 21,
     "metadata": {},
     "output_type": "execute_result"
    }
   ],
   "source": [
    "Daily = df.reset_index().groupby(['Zones','Time Stamp']).sum()\n",
    "Daily.head(20)"
   ]
  },
  {
   "cell_type": "code",
   "execution_count": 22,
   "metadata": {
    "collapsed": false
   },
   "outputs": [
    {
     "data": {
      "text/plain": [
       "<matplotlib.axes._subplots.AxesSubplot at 0x7ff8eb02d710>"
      ]
     },
     "execution_count": 22,
     "metadata": {},
     "output_type": "execute_result"
    },
    {
     "data": {
      "image/png": "[encoded data removed]",
      "text/plain": [
       "<matplotlib.figure.Figure at 0x7ff903f5acc0>"
      ]
     },
     "metadata": {},
     "output_type": "display_data"
    }
   ],
   "source": [
    "Daily.loc['JAN'].plot()"
   ]
  },
  {
   "cell_type": "code",
   "execution_count": 23,
   "metadata": {
    "collapsed": false
   },
   "outputs": [
    {
     "data": {
      "text/plain": [
       "<matplotlib.axes._subplots.AxesSubplot at 0x7ff8eb402ef0>"
      ]
     },
     "execution_count": 23,
     "metadata": {},
     "output_type": "execute_result"
    },
    {
     "data": {
      "image/png": "[encoded data removed]",
      "text/plain": [
       "<matplotlib.figure.Figure at 0x7ff8edb449e8>"
      ]
     },
     "metadata": {},
     "output_type": "display_data"
    }
   ],
   "source": [
    "Daily.loc['GAN'].plot()"
   ]
  }
 ],
 "metadata": {
  "kernelspec": {
   "display_name": "Python 3",
   "language": "python",
   "name": "python3"
  },
  "language_info": {
   "codemirror_mode": {
    "name": "ipython",
    "version": 3
   },
   "file_extension": ".py",
   "mimetype": "text/x-python",
   "name": "python",
   "nbconvert_exporter": "python",
   "pygments_lexer": "ipython3",
   "version": "3.5.1"
  }
 },
 "nbformat": 4,
 "nbformat_minor": 0
}
