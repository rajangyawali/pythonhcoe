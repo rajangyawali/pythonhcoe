{
 "cells": [
  {
   "cell_type": "code",
   "execution_count": 15,
   "metadata": {
    "collapsed": false
   },
   "outputs": [
    {
     "name": "stdout",
     "output_type": "stream",
     "text": [
      "ID\tName\tAge\tAddress\tEmail\tDesignation\t Salary\n",
      "1 \t +self.name+ \t 0 \t  +\n",
      "        self.address+  \t  + self.email +  \t  + self.designation +  \t 0\n",
      "2 \t +self.name+ \t 0 \t  +\n",
      "        self.address+  \t  + self.email +  \t  + self.designation +  \t 0\n",
      "3 \t raj \t 23 \t dfd \t dfd \t dfd \t 34\n",
      "Please enter the id of the employee which you want to delete !1\n",
      "ID\tName\tAge\tAddress\tEmail\tDesignation\t Salary\n",
      "2 \t +self.name+ \t 0 \t  +\n",
      "        self.address+  \t  + self.email +  \t  + self.designation +  \t 0\n",
      "3 \t raj \t 23 \t dfd \t dfd \t dfd \t 34\n"
     ]
    }
   ],
   "source": [
    "class Employee:\n",
    "    id = 0\n",
    "    \n",
    "    def __init__(self, name, age, address, email, designation, salary):\n",
    "        self.name = name\n",
    "        self.age = age\n",
    "        self.address = address\n",
    "        self.email = email\n",
    "        self.designation = designation\n",
    "        self.salary = salary\n",
    "        Employee.id += 1\n",
    "    \n",
    "        \n",
    "    def insert(self):\n",
    "        db = pymysql.connect(\"localhost\",\"root\",\"\",\"employee\")\n",
    "        cursor = db.cursor()\n",
    "        insert_query = \"INSERT INTO employee(name, age, address, email, designation, salary) VALUES('\" + self.name +\"', \"+ str(self.age)+\", '\"+ self.address+\"', '\"+ self.email+\"', '\"+ self.designation+\"', \"+ str(self.salary)+\")\"        \n",
    "        cursor.execute(insert_query)\n",
    "        db.commit()\n",
    "        db.close()\n",
    "        print(insert_query)\n",
    "        \n",
    "\n",
    "\n",
    "\n",
    "\n",
    "        \n",
    "    \n",
    "import pymysql\n",
    "db_name = \"\"\n",
    "def create_database():\n",
    "    db = pymysql.connect(\"localhost\",\"root\",\"\")\n",
    "    cursor = db.cursor()\n",
    "    global db_name\n",
    "    db_name = input(\"Please enter the database name\")\n",
    "    create_db = \"CREATE DATABASE \" + db_name\n",
    "    cursor.execute(create_db)\n",
    "    select_db = \"USE \" + db_name\n",
    "    cursor.execute(select_db)\n",
    "    db.close()\n",
    "db_name\n",
    "def create_table():\n",
    "    db = pymysql.connect(\"localhost\",\"root\",\"\",db_name)\n",
    "    cursor = db.cursor()\n",
    "    create_table = \"\"\"CREATE TABLE employee (\n",
    "                    id INT(2) NOT NULL AUTO_INCREMENT PRIMARY KEY,\n",
    "                    name VARCHAR(255) NOT NULL,\n",
    "                    age INT(3) NOT NULL,\n",
    "                    address VARCHAR(255) NOT NULL,\n",
    "                    email VARCHAR(255),\n",
    "                    designation VARCHAR(255) NOT NULL,\n",
    "                    salary INT(10))\"\"\"\n",
    "    cursor.execute(create_table)\n",
    "    db.close()\n",
    "    \n",
    "def read_data():\n",
    "    for i in range(1):\n",
    "        name = input(\"Please enter your name\")\n",
    "        age = int(input(\"Please enter your age\"))\n",
    "        address = input(\"Please enter your address\")\n",
    "        email = input(\"Please enter your email\")\n",
    "        designation = input(\"Please enter your designation\")\n",
    "        salary = int(input(\"Please enter your salary\"))\n",
    "        e = Employee(name,age,address,email,designation,salary)\n",
    "        e.insert()\n",
    "        print(\"\\n Data Inserted Successfully\")\n",
    "        \n",
    "        \n",
    "def viewall():\n",
    "    db = pymysql.connect(\"localhost\",\"root\",\"\",\"employee\")\n",
    "    cursor = db.cursor()\n",
    "    query  = \"SELECT * FROM employee\"\n",
    "    try:\n",
    "        cursor.execute(query)\n",
    "        results = cursor.fetchall()\n",
    "        print(\"ID\\tName\\tAge\\tAddress\\tEmail\\tDesignation\\t Salary\")\n",
    "        for r in results:\n",
    "            id = r[0]\n",
    "            name = r[1]\n",
    "            age= r[2]\n",
    "            address= r[3]\n",
    "            email = r[4]\n",
    "            designation = r[5]\n",
    "            salary = r[6]\n",
    "            print(id,\"\\t\",name,\"\\t\",age,\"\\t\",address,\"\\t\",email,\"\\t\",designation,\"\\t\",salary)\n",
    "    except:\n",
    "        print(\"Unable to fetch data from the database\")\n",
    "    db.close()\n",
    "    \n",
    "def delete():\n",
    "    id = int(input(\"Please enter the id of the employee which you want to delete !\"))\n",
    "    db = pymysql.connect(\"localhost\",\"root\",\"\",\"employee\")\n",
    "    cursor = db.cursor()\n",
    "    query  = \"DELETE FROM employee WHERE id = '\" + str(id) +\"'\"\n",
    "    try:\n",
    "        cursor.execute(query)\n",
    "        db.commit()\n",
    "    except:\n",
    "        print(\"Unable to fetch data from the database\")\n",
    "    db.close()\n",
    "    \n",
    "\n",
    "    \n",
    "    \n",
    "    \n",
    "#create_database()\n",
    "#create_table()\n",
    "#read_data()\n",
    "viewall()\n",
    "delete()\n",
    "viewall()\n",
    "        "
   ]
  },
  {
   "cell_type": "code",
   "execution_count": 31,
   "metadata": {
    "collapsed": false
   },
   "outputs": [
    {
     "data": {
      "text/plain": [
       "('str(a)', '13')"
      ]
     },
     "execution_count": 31,
     "metadata": {},
     "output_type": "execute_result"
    }
   ],
   "source": [
    "a = 12\n",
    "b = '13'\n",
    "str(a) + b\n",
    "\"str(a)\",b"
   ]
  }
 ],
 "metadata": {
  "kernelspec": {
   "display_name": "Python 3",
   "language": "python",
   "name": "python3"
  },
  "language_info": {
   "codemirror_mode": {
    "name": "ipython",
    "version": 3
   },
   "file_extension": ".py",
   "mimetype": "text/x-python",
   "name": "python",
   "nbconvert_exporter": "python",
   "pygments_lexer": "ipython3",
   "version": "3.5.2"
  }
 },
 "nbformat": 4,
 "nbformat_minor": 0
}
