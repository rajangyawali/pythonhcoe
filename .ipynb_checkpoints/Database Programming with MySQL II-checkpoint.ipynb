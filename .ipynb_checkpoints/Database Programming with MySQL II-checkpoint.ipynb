{
 "cells": [
  {
   "cell_type": "code",
   "execution_count": 9,
   "metadata": {
    "collapsed": false
   },
   "outputs": [
    {
     "name": "stdout",
     "output_type": "stream",
     "text": [
      "Database created successfully\n"
     ]
    }
   ],
   "source": [
    "\n",
    "\n",
    "import pymysql\n",
    "db = pymysql.connect(\"localhost\",\"root\",\"\")\n",
    "try:\n",
    "    cursor = db.cursor()\n",
    "    query = \"CREATE DATABASE himalaya\"\n",
    "    cursor.execute(query)\n",
    "    db.commit()\n",
    "    print(\"Database created successfully\")\n",
    "except:\n",
    "    print(\"Error creating database\")\n",
    "db.close()"
   ]
  },
  {
   "cell_type": "code",
   "execution_count": 8,
   "metadata": {
    "collapsed": false
   },
   "outputs": [
    {
     "name": "stdout",
     "output_type": "stream",
     "text": [
      "Error deleting database\n"
     ]
    }
   ],
   "source": [
    "db = pymysql.connect(\"localhost\",\"root\",\"\")\n",
    "try:\n",
    "    cursor = db.cursor()\n",
    "    query = \"DROP DATABASE himalaya\"\n",
    "    cursor.execute(query)\n",
    "    db.commit()\n",
    "    print(\"Database deleted successfully\")\n",
    "except:\n",
    "    print(\"Error deleting database\")\n",
    "db.close()"
   ]
  },
  {
   "cell_type": "code",
   "execution_count": 10,
   "metadata": {
    "collapsed": false
   },
   "outputs": [
    {
     "name": "stdout",
     "output_type": "stream",
     "text": [
      "Table has successfully been created !!\n"
     ]
    }
   ],
   "source": [
    "db = pymysql.connect(\"localhost\",\"root\",\"\",\"himalaya\")\n",
    "try:\n",
    "    cursor = db.cursor()\n",
    "    query = \"\"\"CREATE TABLE student(\n",
    "            id INT(4) NOT NULL AUTO_INCREMENT PRIMARY KEY,\n",
    "            name VARCHAR(255) NOT NULL,\n",
    "            age INT(3) NOT NULL,\n",
    "            address VARCHAR(255) NOT NULL,\n",
    "            email VARCHAR(255) NOT NULL,\n",
    "            phone VARCHAR(10) NOT NULL,\n",
    "            faculty VARCHAR(3) NOT NULL\n",
    "            )\"\"\"\n",
    "    cursor.execute(query)\n",
    "    db.commit()\n",
    "    print(\"Table has successfully been created !!\")\n",
    "except:\n",
    "    db.rollback()\n",
    "    print(\"Error creating table\")\n",
    "db.close()"
   ]
  },
  {
   "cell_type": "code",
   "execution_count": null,
   "metadata": {
    "collapsed": false
   },
   "outputs": [
    {
     "name": "stdout",
     "output_type": "stream",
     "text": [
      "Please enter your name !rajan\n",
      "Please enter your age !23\n",
      "Please enter your address !butwal\n",
      "Please enter your email !rajang\n",
      "Please enter your phone !9840060070\n",
      "Please enter your faculty !BEX\n",
      "INSERT INTO student(name,age,address,email,phone,faculty) VALUES('rajan',23,'butwal','rajang',9840060070,'BEX')\n",
      "Data has been inserted correctly !!\n",
      "Please enter your name !sdsw\n",
      "Please enter your age !2\n",
      "Please enter your address !sds\n",
      "Please enter your email !dsd\n",
      "Please enter your phone !23\n",
      "Please enter your faculty !asa\n",
      "INSERT INTO student(name,age,address,email,phone,faculty) VALUES('sdsw',2,'sds','dsd',23,'asa')\n",
      "Data has been inserted correctly !!\n",
      "Please enter your name !dsd\n",
      "Please enter your age !2\n",
      "Please enter your address !ds\n",
      "Please enter your email !23fs\n",
      "Please enter your phone !23\n",
      "Please enter your faculty !dff\n",
      "INSERT INTO student(name,age,address,email,phone,faculty) VALUES('dsd',2,'ds','23fs',23,'dff')\n",
      "Data has been inserted correctly !!\n",
      "Please enter your name !dss\n",
      "Please enter your age !34\n",
      "Please enter your address !fdfd\n"
     ]
    }
   ],
   "source": [
    "class Student:\n",
    "    id = 0\n",
    "    \n",
    "    def __init__(self, name, age, address, email, phone, faculty):\n",
    "        self.name = name\n",
    "        self.age = age\n",
    "        self.address = address\n",
    "        self.email = email\n",
    "        self.phone = phone\n",
    "        self.faculty = faculty\n",
    "        Student.id += 1\n",
    "        \n",
    "    def insert(self):\n",
    "        db = pymysql.connect(\"localhost\",\"root\",\"\",\"himalaya\")\n",
    "        try:\n",
    "            cursor = db.cursor()\n",
    "            query = \"INSERT INTO student(name,age,address,email,phone,faculty) VALUES('\"+self.name + \"',\" + str(self.age) + \",'\" + self.address + \"','\" + self.email + \"',\" + str(self.phone) + \",'\" + self.faculty +\"')\"        \n",
    "            cursor.execute(query)\n",
    "            db.commit()\n",
    "            print(query)\n",
    "            print(\"Data has been inserted correctly !!\")\n",
    "        except:\n",
    "            db.rollback()\n",
    "            print(\"Error inserting data !\")\n",
    "        db.close()\n",
    "            \n",
    "def read_data():\n",
    "    for i in range(5):\n",
    "        name = input(\"Please enter your name !\")\n",
    "        age = int(input(\"Please enter your age !\"))\n",
    "        address = input(\"Please enter your address !\")\n",
    "        email = input(\"Please enter your email !\")\n",
    "        phone = int(input(\"Please enter your phone !\"))\n",
    "        faculty = input(\"Please enter your faculty !\")\n",
    "        s = Student(name, age, address, email, phone, faculty)\n",
    "        s.insert()\n",
    "        \n",
    "def view_data():\n",
    "    db = pymysql.connect(\"localhost\",\"root\",\"\",\"himalaya\")\n",
    "    try:\n",
    "        cursor = db.cursor()\n",
    "        query = \"SELECT * FROM student\"\n",
    "        cursor.execute(query)\n",
    "        results = cursor.fetchall()\n",
    "        print(\"Id\\tName\\tAge\\tAddress\\tEmail\\t\\t\\t\\tPhone\\t\\tFaculty\")\n",
    "        for r in results:\n",
    "            id = r[0]\n",
    "            name = r[1]\n",
    "            age = r[2]\n",
    "            address = r[3]\n",
    "            email = r[4]\n",
    "            phone = r[5]\n",
    "            faculty = r[6]\n",
    "            print(str(id)+\"\\t\"+name+\"\\t\"+str(age)+\"\\t\"+address+\"\\t\"+email+\"\\t\"+phone+\"\\t\"+faculty)\n",
    "        print(\"Data fetched successfully !!\")\n",
    "    except:\n",
    "        print(\"Error fetching data !!\")\n",
    "    \n",
    "        \n",
    "        \n",
    "    \n",
    "    \n",
    "    \n",
    "read_data()\n",
    "#view_data()"
   ]
  }
 ],
 "metadata": {
  "kernelspec": {
   "display_name": "Python 3",
   "language": "python",
   "name": "python3"
  },
  "language_info": {
   "codemirror_mode": {
    "name": "ipython",
    "version": 3
   },
   "file_extension": ".py",
   "mimetype": "text/x-python",
   "name": "python",
   "nbconvert_exporter": "python",
   "pygments_lexer": "ipython3",
   "version": "3.5.2"
  }
 },
 "nbformat": 4,
 "nbformat_minor": 0
}
